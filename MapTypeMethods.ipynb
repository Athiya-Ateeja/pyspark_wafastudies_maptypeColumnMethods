{
 "cells": [
  {
   "cell_type": "code",
   "execution_count": 0,
   "metadata": {
    "application/vnd.databricks.v1+cell": {
     "cellMetadata": {
      "byteLimit": 2048000,
      "implicitDf": true,
      "rowLimit": 10000
     },
     "inputWidgets": {},
     "nuid": "1c5a0cbc-eaff-490e-98a6-e222d3ce8954",
     "showTitle": false,
     "title": ""
    }
   },
   "outputs": [
    {
     "output_type": "stream",
     "name": "stdout",
     "output_type": "stream",
     "text": [
      "+------+--------------------+\n|  Name|          Properties|\n+------+--------------------+\n|Athiya|{eye -> brown, ha...|\n|  Sana|{eye -> blue, hai...|\n+------+--------------------+\n\nroot\n |-- Name: string (nullable = true)\n |-- Properties: map (nullable = true)\n |    |-- key: string\n |    |-- value: string (valueContainsNull = true)\n\n"
     ]
    }
   ],
   "source": [
    "data = [('Athiya',{'hair':'black','eye':'brown'}),('Sana',{'hair':'black','eye':'blue'})]\n",
    "schema = ['Name','Properties']\n",
    "df = spark.createDataFrame(data,schema)\n",
    "df.show()\n",
    "df.printSchema()"
   ]
  },
  {
   "cell_type": "code",
   "execution_count": 0,
   "metadata": {
    "application/vnd.databricks.v1+cell": {
     "cellMetadata": {
      "byteLimit": 2048000,
      "rowLimit": 10000
     },
     "inputWidgets": {},
     "nuid": "7391e482-d8c3-4c0e-8dd4-87a43f82b9c6",
     "showTitle": false,
     "title": ""
    }
   },
   "outputs": [],
   "source": [
    "from pyspark.sql.types import StructType,StructField,MapType,StringType"
   ]
  },
  {
   "cell_type": "code",
   "execution_count": 0,
   "metadata": {
    "application/vnd.databricks.v1+cell": {
     "cellMetadata": {
      "byteLimit": 2048000,
      "rowLimit": 10000
     },
     "inputWidgets": {},
     "nuid": "8140f53d-6dcd-457c-9722-18ee9a3fa2fa",
     "showTitle": false,
     "title": ""
    }
   },
   "outputs": [],
   "source": [
    "schema = StructType([StructField('Name',StringType()),\\\n",
    "                    StructField('Properties',MapType(StringType(),StringType()))])\n",
    "df = spark.createDataFrame(data,schema)"
   ]
  },
  {
   "cell_type": "code",
   "execution_count": 0,
   "metadata": {
    "application/vnd.databricks.v1+cell": {
     "cellMetadata": {
      "byteLimit": 2048000,
      "rowLimit": 10000
     },
     "inputWidgets": {},
     "nuid": "d7e09b10-ec76-4122-b5f7-a0b1a8eba2de",
     "showTitle": false,
     "title": ""
    }
   },
   "outputs": [],
   "source": [
    "from pyspark.sql.functions import explode,map_keys,map_values"
   ]
  },
  {
   "cell_type": "markdown",
   "metadata": {
    "application/vnd.databricks.v1+cell": {
     "cellMetadata": {},
     "inputWidgets": {},
     "nuid": "5720c139-d613-47a5-8da0-af0fc3480da7",
     "showTitle": false,
     "title": ""
    }
   },
   "source": [
    "##Explode()"
   ]
  },
  {
   "cell_type": "code",
   "execution_count": 0,
   "metadata": {
    "application/vnd.databricks.v1+cell": {
     "cellMetadata": {
      "byteLimit": 2048000,
      "rowLimit": 10000
     },
     "inputWidgets": {},
     "nuid": "f4777cec-6f7f-43e2-8671-fb43e5b790f3",
     "showTitle": false,
     "title": ""
    }
   },
   "outputs": [
    {
     "output_type": "stream",
     "name": "stdout",
     "output_type": "stream",
     "text": [
      "+------+--------------------+----+-----+\n|  Name|          Properties| key|value|\n+------+--------------------+----+-----+\n|Athiya|{eye -> brown, ha...| eye|brown|\n|Athiya|{eye -> brown, ha...|hair|black|\n|  Sana|{eye -> blue, hai...| eye| blue|\n|  Sana|{eye -> blue, hai...|hair|black|\n+------+--------------------+----+-----+\n\n"
     ]
    }
   ],
   "source": [
    "df1 = df.select('Name','Properties',explode(df.Properties))\n",
    "df1.show()"
   ]
  },
  {
   "cell_type": "markdown",
   "metadata": {
    "application/vnd.databricks.v1+cell": {
     "cellMetadata": {},
     "inputWidgets": {},
     "nuid": "5101de3d-aa67-48b5-9605-348adee1a8a6",
     "showTitle": false,
     "title": ""
    }
   },
   "source": [
    "##map_keys()"
   ]
  },
  {
   "cell_type": "code",
   "execution_count": 0,
   "metadata": {
    "application/vnd.databricks.v1+cell": {
     "cellMetadata": {
      "byteLimit": 2048000,
      "rowLimit": 10000
     },
     "inputWidgets": {},
     "nuid": "c22ad2e6-f82c-49e2-ae29-6341d2b66bc6",
     "showTitle": false,
     "title": ""
    }
   },
   "outputs": [
    {
     "output_type": "stream",
     "name": "stdout",
     "output_type": "stream",
     "text": [
      "+------+--------------------+-----------+\n|  Name|          Properties|       keys|\n+------+--------------------+-----------+\n|Athiya|{eye -> brown, ha...|[eye, hair]|\n|  Sana|{eye -> blue, hai...|[eye, hair]|\n+------+--------------------+-----------+\n\n"
     ]
    }
   ],
   "source": [
    "df2 = df.withColumn('keys',map_keys(df.Properties))\n",
    "df2.show()"
   ]
  },
  {
   "cell_type": "markdown",
   "metadata": {
    "application/vnd.databricks.v1+cell": {
     "cellMetadata": {},
     "inputWidgets": {},
     "nuid": "1b9bf2f3-82d8-4eeb-be51-c2a0da4d2776",
     "showTitle": false,
     "title": ""
    }
   },
   "source": [
    "##map_values()"
   ]
  },
  {
   "cell_type": "code",
   "execution_count": 0,
   "metadata": {
    "application/vnd.databricks.v1+cell": {
     "cellMetadata": {
      "byteLimit": 2048000,
      "rowLimit": 10000
     },
     "inputWidgets": {},
     "nuid": "1943f498-e71b-4d9c-af04-02f03ee187f0",
     "showTitle": false,
     "title": ""
    }
   },
   "outputs": [
    {
     "output_type": "stream",
     "name": "stdout",
     "output_type": "stream",
     "text": [
      "+------+--------------------+--------------+\n|  Name|          Properties|        values|\n+------+--------------------+--------------+\n|Athiya|{eye -> brown, ha...|[brown, black]|\n|  Sana|{eye -> blue, hai...| [blue, black]|\n+------+--------------------+--------------+\n\n"
     ]
    }
   ],
   "source": [
    "df3 = df.withColumn('values',map_values(df.Properties))\n",
    "df3.show()"
   ]
  },
  {
   "cell_type": "code",
   "execution_count": 0,
   "metadata": {
    "application/vnd.databricks.v1+cell": {
     "cellMetadata": {},
     "inputWidgets": {},
     "nuid": "1a954993-f927-4689-9547-26ea38e20189",
     "showTitle": false,
     "title": ""
    }
   },
   "outputs": [],
   "source": []
  }
 ],
 "metadata": {
  "application/vnd.databricks.v1+notebook": {
   "dashboards": [],
   "language": "python",
   "notebookMetadata": {
    "mostRecentlyExecutedCommandWithImplicitDF": {
     "commandId": -1,
     "dataframes": [
      "_sqldf"
     ]
    },
    "pythonIndentUnit": 4
   },
   "notebookName": "MapTypeMethods",
   "widgets": {}
  }
 },
 "nbformat": 4,
 "nbformat_minor": 0
}
